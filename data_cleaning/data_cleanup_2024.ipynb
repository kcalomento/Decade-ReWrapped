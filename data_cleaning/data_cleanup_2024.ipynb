{
 "cells": [
  {
   "cell_type": "code",
   "execution_count": 1,
   "metadata": {},
   "outputs": [],
   "source": [
    "import json\n",
    "import pandas as pd"
   ]
  },
  {
   "cell_type": "markdown",
   "metadata": {},
   "source": [
    "1"
   ]
  },
  {
   "cell_type": "code",
   "execution_count": 2,
   "metadata": {},
   "outputs": [],
   "source": [
    "# Load JSON file\n",
    "file_path = \"../uncleaned_data/Streaming_History_Audio_2023-2024_17.json\"  # Update path if needed\n",
    "with open(file_path, \"r\", encoding=\"utf-8\") as f:\n",
    "    data = json.load(f)"
   ]
  },
  {
   "cell_type": "code",
   "execution_count": 3,
   "metadata": {},
   "outputs": [],
   "source": [
    "# Convert to DataFrame\n",
    "df0 = pd.DataFrame(data)"
   ]
  },
  {
   "cell_type": "code",
   "execution_count": 4,
   "metadata": {},
   "outputs": [],
   "source": [
    "# Convert ISO 8601 timestamp to datetime\n",
    "df0[\"date\"] = pd.to_datetime(df0[\"ts\"], errors=\"coerce\", utc=True)"
   ]
  },
  {
   "cell_type": "code",
   "execution_count": 5,
   "metadata": {},
   "outputs": [],
   "source": [
    "# Extract only 2024 data\n",
    "df0_2024 = df0[df0[\"date\"].dt.year == 2024]"
   ]
  },
  {
   "cell_type": "code",
   "execution_count": 6,
   "metadata": {},
   "outputs": [],
   "source": [
    "# Keep only the required columns\n",
    "required_columns = [\n",
    "    \"ts\", \"ms_played\", \"master_metadata_track_name\", \n",
    "    \"master_metadata_album_artist_name\", \"master_metadata_album_album_name\", \n",
    "]\n",
    "\n",
    "df0_2024 = df0_2024[required_columns] \n",
    "df0_2024 = df0_2024.dropna(how=\"all\")  "
   ]
  },
  {
   "cell_type": "code",
   "execution_count": 7,
   "metadata": {},
   "outputs": [
    {
     "name": "stdout",
     "output_type": "stream",
     "text": [
      "(4502, 5)\n"
     ]
    }
   ],
   "source": [
    "# Check if data exists\n",
    "print(df0_2024.shape)"
   ]
  },
  {
   "cell_type": "markdown",
   "metadata": {},
   "source": [
    "2"
   ]
  },
  {
   "cell_type": "code",
   "execution_count": 8,
   "metadata": {},
   "outputs": [],
   "source": [
    "# Load JSON file\n",
    "file_path = \"../uncleaned_data/Streaming_History_Audio_2024_18.json\"\n",
    "with open(file_path, \"r\", encoding=\"utf-8\") as f:\n",
    "    data = json.load(f)"
   ]
  },
  {
   "cell_type": "code",
   "execution_count": 9,
   "metadata": {},
   "outputs": [],
   "source": [
    "# Convert to DataFrame \n",
    "df1 = pd.DataFrame(data)"
   ]
  },
  {
   "cell_type": "code",
   "execution_count": 10,
   "metadata": {},
   "outputs": [],
   "source": [
    "# Convert ISO 8601 timestamp to datetime\n",
    "df1[\"date\"] = pd.to_datetime(df1[\"ts\"], errors=\"coerce\", utc=True)"
   ]
  },
  {
   "cell_type": "code",
   "execution_count": 11,
   "metadata": {},
   "outputs": [],
   "source": [
    "# Extract only 2024 data\n",
    "df1_2024 = df1[df1[\"date\"].dt.year == 2024]"
   ]
  },
  {
   "cell_type": "code",
   "execution_count": 12,
   "metadata": {},
   "outputs": [],
   "source": [
    "# Keep only the required columns\n",
    "required_columns = [\n",
    "    \"ts\", \"ms_played\", \"master_metadata_track_name\", \n",
    "    \"master_metadata_album_artist_name\", \"master_metadata_album_album_name\", \n",
    "]\n",
    "\n",
    "df1_2024 = df1_2024[required_columns] \n",
    "df1_2024 = df1_2024.dropna(how=\"all\") "
   ]
  },
  {
   "cell_type": "code",
   "execution_count": 13,
   "metadata": {},
   "outputs": [
    {
     "name": "stdout",
     "output_type": "stream",
     "text": [
      "(16210, 5)\n"
     ]
    }
   ],
   "source": [
    "# Check if data exists\n",
    "print(df1_2024.shape)"
   ]
  },
  {
   "cell_type": "markdown",
   "metadata": {},
   "source": [
    "3"
   ]
  },
  {
   "cell_type": "code",
   "execution_count": 14,
   "metadata": {},
   "outputs": [],
   "source": [
    "# Load JSON file\n",
    "file_path = \"../uncleaned_data/Streaming_History_Audio_2024_19.json\"\n",
    "with open(file_path, \"r\", encoding=\"utf-8\") as f:\n",
    "    data = json.load(f)"
   ]
  },
  {
   "cell_type": "code",
   "execution_count": 15,
   "metadata": {},
   "outputs": [],
   "source": [
    "# Convert to DataFrame \n",
    "df2 = pd.DataFrame(data)"
   ]
  },
  {
   "cell_type": "code",
   "execution_count": 16,
   "metadata": {},
   "outputs": [],
   "source": [
    "# Convert ISO 8601 timestamp to datetime\n",
    "df2[\"date\"] = pd.to_datetime(df2[\"ts\"], errors=\"coerce\", utc=True)"
   ]
  },
  {
   "cell_type": "code",
   "execution_count": 17,
   "metadata": {},
   "outputs": [],
   "source": [
    "# Extract only 2024 data\n",
    "df2_2024 = df2[df2[\"date\"].dt.year == 2024]"
   ]
  },
  {
   "cell_type": "code",
   "execution_count": 23,
   "metadata": {},
   "outputs": [],
   "source": [
    "# Keep only the required columns\n",
    "required_columns = [\n",
    "    \"ts\", \"ms_played\", \"master_metadata_track_name\", \n",
    "    \"master_metadata_album_artist_name\", \"master_metadata_album_album_name\", \n",
    "]\n",
    "\n",
    "df2_2024 = df2_2024[required_columns] \n",
    "df2_2024 = df2_2024.dropna(how=\"all\") "
   ]
  },
  {
   "cell_type": "code",
   "execution_count": 24,
   "metadata": {},
   "outputs": [
    {
     "name": "stdout",
     "output_type": "stream",
     "text": [
      "(15819, 5)\n"
     ]
    }
   ],
   "source": [
    "# Check if data exists\n",
    "print(df2_2024.shape)"
   ]
  },
  {
   "cell_type": "markdown",
   "metadata": {},
   "source": [
    "4"
   ]
  },
  {
   "cell_type": "code",
   "execution_count": 20,
   "metadata": {},
   "outputs": [],
   "source": [
    "# Load JSON file\n",
    "file_path = \"../uncleaned_data/Streaming_History_Audio_2024_20.json\"\n",
    "with open(file_path, \"r\", encoding=\"utf-8\") as f:\n",
    "    data = json.load(f)"
   ]
  },
  {
   "cell_type": "code",
   "execution_count": 21,
   "metadata": {},
   "outputs": [],
   "source": [
    "# Convert to DataFrame \n",
    "df3 = pd.DataFrame(data)"
   ]
  },
  {
   "cell_type": "code",
   "execution_count": 22,
   "metadata": {},
   "outputs": [],
   "source": [
    "# Convert ISO 8601 timestamp to datetime\n",
    "df3[\"date\"] = pd.to_datetime(df3[\"ts\"], errors=\"coerce\", utc=True)"
   ]
  },
  {
   "cell_type": "code",
   "execution_count": 25,
   "metadata": {},
   "outputs": [],
   "source": [
    "# Extract only 2024 data\n",
    "df3_2024 = df3[df3[\"date\"].dt.year == 2024]"
   ]
  },
  {
   "cell_type": "code",
   "execution_count": 26,
   "metadata": {},
   "outputs": [],
   "source": [
    "# Keep only the required columns\n",
    "required_columns = [\n",
    "    \"ts\", \"ms_played\", \"master_metadata_track_name\", \n",
    "    \"master_metadata_album_artist_name\", \"master_metadata_album_album_name\", \n",
    "]\n",
    "\n",
    "df3_2024 = df3_2024[required_columns] \n",
    "df3_2024 = df3_2024.dropna(how=\"all\") "
   ]
  },
  {
   "cell_type": "code",
   "execution_count": 27,
   "metadata": {},
   "outputs": [
    {
     "name": "stdout",
     "output_type": "stream",
     "text": [
      "(15752, 5)\n"
     ]
    }
   ],
   "source": [
    "# Check if data exists\n",
    "print(df3_2024.shape)"
   ]
  },
  {
   "cell_type": "markdown",
   "metadata": {},
   "source": [
    "5"
   ]
  },
  {
   "cell_type": "code",
   "execution_count": 43,
   "metadata": {},
   "outputs": [],
   "source": [
    "# Load JSON file\n",
    "file_path = \"../uncleaned_data/Streaming_History_Audio_2024-2025_21.json\" # Update path if needed\n",
    "with open(file_path, \"r\", encoding=\"utf-8\") as f:\n",
    "    data = json.load(f)     "
   ]
  },
  {
   "cell_type": "code",
   "execution_count": 44,
   "metadata": {},
   "outputs": [],
   "source": [
    "# Convert to DataFrame \n",
    "df4 = pd.DataFrame(data)"
   ]
  },
  {
   "cell_type": "code",
   "execution_count": 49,
   "metadata": {},
   "outputs": [],
   "source": [
    "# Convert ISO 8601 timestamp to datetime\n",
    "df4[\"date\"] = pd.to_datetime(df4[\"ts\"], errors=\"coerce\", utc=True)"
   ]
  },
  {
   "cell_type": "code",
   "execution_count": 50,
   "metadata": {},
   "outputs": [],
   "source": [
    "# Extract only 2024 data\n",
    "df4_2024 = df4[df4[\"date\"].dt.year == 2024]"
   ]
  },
  {
   "cell_type": "code",
   "execution_count": 51,
   "metadata": {},
   "outputs": [],
   "source": [
    "# Keep only the required columns\n",
    "required_columns = [\n",
    "    \"ts\", \"ms_played\", \"master_metadata_track_name\", \n",
    "    \"master_metadata_album_artist_name\", \"master_metadata_album_album_name\", \n",
    "]\n",
    "\n",
    "df4_2024 = df4_2024[required_columns] \n",
    "df4_2024 = df4_2024.dropna(how=\"all\") "
   ]
  },
  {
   "cell_type": "code",
   "execution_count": 52,
   "metadata": {},
   "outputs": [
    {
     "name": "stdout",
     "output_type": "stream",
     "text": [
      "(4771, 5)\n"
     ]
    }
   ],
   "source": [
    "# Check if data exists\n",
    "print(df4_2024.shape)"
   ]
  },
  {
   "cell_type": "markdown",
   "metadata": {},
   "source": [
    "Full Merge of 2022"
   ]
  },
  {
   "cell_type": "code",
   "execution_count": 53,
   "metadata": {},
   "outputs": [],
   "source": [
    "# Convert to DataFrames\n",
    "df0 = pd.DataFrame(df0_2024)\n",
    "df1 = pd.DataFrame(df1_2024)\n",
    "df2 = pd.DataFrame(df2_2024)\n",
    "df3 = pd.DataFrame(df3_2024)\n",
    "df4 = pd.DataFrame(df4_2024)"
   ]
  },
  {
   "cell_type": "code",
   "execution_count": 54,
   "metadata": {},
   "outputs": [],
   "source": [
    "# Combine all DataFrames (uncleaned data is second)\n",
    "df_merged = pd.concat([df0, df1, df2, df3, df4], ignore_index=True)"
   ]
  },
  {
   "cell_type": "code",
   "execution_count": 55,
   "metadata": {},
   "outputs": [],
   "source": [
    "# Convert timestamp format\n",
    "df_merged[\"ts\"] = pd.to_datetime(df_merged[\"ts\"]).dt.strftime(\"%Y-%m-%d %H:%M:%S\")"
   ]
  },
  {
   "cell_type": "code",
   "execution_count": 56,
   "metadata": {},
   "outputs": [],
   "source": [
    "# Remove quotes from column headers\n",
    "df_merged.columns = df_merged.columns.str.replace('\"', '')"
   ]
  },
  {
   "cell_type": "code",
   "execution_count": 57,
   "metadata": {},
   "outputs": [],
   "source": [
    "# Save the filtered data to JSON\n",
    "df_merged.to_json(\"../cleaned_data/json/Streaming_History_2024.json\", orient=\"records\", indent=4)"
   ]
  },
  {
   "cell_type": "code",
   "execution_count": 58,
   "metadata": {},
   "outputs": [],
   "source": [
    "# Save the filtered data to CSV\n",
    "df_merged.to_csv(\"../cleaned_data/csv/spotify_2024_fixed.csv\", index=False, quoting=1, header=True)"
   ]
  },
  {
   "cell_type": "code",
   "execution_count": 59,
   "metadata": {},
   "outputs": [],
   "source": [
    "# Manually remove quotes from headers with UTF-8 encoding\n",
    "with open(\"../cleaned_data/csv/spotify_2024_fixed.csv\", \"r\", encoding=\"utf-8\") as file:\n",
    "    lines = file.readlines()"
   ]
  },
  {
   "cell_type": "code",
   "execution_count": 60,
   "metadata": {},
   "outputs": [],
   "source": [
    "# Replace first line (headers) without quotes\n",
    "lines[0] = \",\".join(lines[0].replace('\"', \"\").strip().split(\",\")) + \"\\n\""
   ]
  },
  {
   "cell_type": "code",
   "execution_count": 61,
   "metadata": {},
   "outputs": [],
   "source": [
    "# Write back to the file using UTF-8\n",
    "with open(\"../cleaned_data/csv/spotify_2024_fixed.csv\", \"w\", encoding=\"utf-8\") as file:\n",
    "    file.writelines(lines)"
   ]
  }
 ],
 "metadata": {
  "kernelspec": {
   "display_name": "base",
   "language": "python",
   "name": "python3"
  },
  "language_info": {
   "codemirror_mode": {
    "name": "ipython",
    "version": 3
   },
   "file_extension": ".py",
   "mimetype": "text/x-python",
   "name": "python",
   "nbconvert_exporter": "python",
   "pygments_lexer": "ipython3",
   "version": "3.12.4"
  }
 },
 "nbformat": 4,
 "nbformat_minor": 2
}
