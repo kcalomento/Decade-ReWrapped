{
 "cells": [
  {
   "cell_type": "code",
   "execution_count": 1,
   "metadata": {},
   "outputs": [],
   "source": [
    "import json\n",
    "import pandas as pd"
   ]
  },
  {
   "cell_type": "code",
   "execution_count": 2,
   "metadata": {},
   "outputs": [],
   "source": [
    "# Load JSON file\n",
    "file_path = \"../uncleaned_data/Streaming_History_Audio_2015-2016_0.json\"  # Update path if needed\n",
    "with open(file_path, \"r\", encoding=\"utf-8\") as f:\n",
    "    data = json.load(f)"
   ]
  },
  {
   "cell_type": "code",
   "execution_count": 3,
   "metadata": {},
   "outputs": [],
   "source": [
    "# Convert to DataFrame\n",
    "df = pd.DataFrame(data)"
   ]
  },
  {
   "cell_type": "code",
   "execution_count": 4,
   "metadata": {},
   "outputs": [],
   "source": [
    "# Convert ISO 8601 timestamp to datetime\n",
    "df[\"date\"] = pd.to_datetime(df[\"ts\"], errors=\"coerce\", utc=True)"
   ]
  },
  {
   "cell_type": "code",
   "execution_count": 5,
   "metadata": {},
   "outputs": [],
   "source": [
    "# Extract only 2015 data\n",
    "df_2015 = df[df[\"date\"].dt.year == 2015]"
   ]
  },
  {
   "cell_type": "code",
   "execution_count": 6,
   "metadata": {},
   "outputs": [],
   "source": [
    "# Keep only the required columns\n",
    "required_columns = [\n",
    "    \"ts\", \"ms_played\", \"master_metadata_track_name\", \n",
    "    \"master_metadata_album_artist_name\", \"master_metadata_album_album_name\"\n",
    "]\n",
    "\n",
    "df_2015 = df_2015[required_columns] \n",
    "df_2015 = df_2015.dropna(how=\"all\") "
   ]
  },
  {
   "cell_type": "code",
   "execution_count": 7,
   "metadata": {},
   "outputs": [
    {
     "name": "stdout",
     "output_type": "stream",
     "text": [
      "(11013, 5)\n"
     ]
    }
   ],
   "source": [
    "# Check if data exists\n",
    "print(df_2015.shape)"
   ]
  },
  {
   "cell_type": "code",
   "execution_count": 12,
   "metadata": {},
   "outputs": [],
   "source": [
    "# Convert timestamp format\n",
    "df_2015[\"ts\"] = pd.to_datetime(df_2015[\"ts\"]).dt.strftime(\"%Y-%m-%d %H:%M:%S\")"
   ]
  },
  {
   "cell_type": "code",
   "execution_count": 13,
   "metadata": {},
   "outputs": [],
   "source": [
    "# Remove quotes from column headers\n",
    "df_2015.columns = df_2015.columns.str.replace('\"', '')"
   ]
  },
  {
   "cell_type": "code",
   "execution_count": 14,
   "metadata": {},
   "outputs": [],
   "source": [
    "# Drop the \"date\" column\n",
    "df = df.drop(columns=[\"date\"], errors=\"ignore\")"
   ]
  },
  {
   "cell_type": "code",
   "execution_count": 15,
   "metadata": {},
   "outputs": [],
   "source": [
    "# Save the filtered data to JSON\n",
    "df_2015.to_json(\"../cleaned_data/json/Streaming_History_2015.json\", orient=\"records\", indent=4)"
   ]
  },
  {
   "cell_type": "code",
   "execution_count": 18,
   "metadata": {},
   "outputs": [],
   "source": [
    "# Save the filtered data to CSV\n",
    "df_2015.to_csv(\"../cleaned_data/csv/spotify_2015_fixed.csv\", index=False, quoting=1, header=True)"
   ]
  },
  {
   "cell_type": "code",
   "execution_count": 19,
   "metadata": {},
   "outputs": [],
   "source": [
    "# Manually remove quotes from headers with UTF-8 encoding\n",
    "with open(\"../cleaned_data/csv/spotify_2015_fixed.csv\", \"r\", encoding=\"utf-8\") as file:\n",
    "    lines = file.readlines()"
   ]
  },
  {
   "cell_type": "code",
   "execution_count": 21,
   "metadata": {},
   "outputs": [],
   "source": [
    "# Replace first line (headers) without quotes\n",
    "lines[0] = \",\".join(lines[0].replace('\"', \"\").strip().split(\",\")) + \"\\n\""
   ]
  },
  {
   "cell_type": "code",
   "execution_count": 22,
   "metadata": {},
   "outputs": [],
   "source": [
    "# Write back to the file using UTF-8\n",
    "with open(\"../cleaned_data/csv/spotify_2015_fixed.csv\", \"w\", encoding=\"utf-8\") as file:\n",
    "    file.writelines(lines)"
   ]
  }
 ],
 "metadata": {
  "kernelspec": {
   "display_name": "base",
   "language": "python",
   "name": "python3"
  },
  "language_info": {
   "codemirror_mode": {
    "name": "ipython",
    "version": 3
   },
   "file_extension": ".py",
   "mimetype": "text/x-python",
   "name": "python",
   "nbconvert_exporter": "python",
   "pygments_lexer": "ipython3",
   "version": "3.12.4"
  }
 },
 "nbformat": 4,
 "nbformat_minor": 2
}
