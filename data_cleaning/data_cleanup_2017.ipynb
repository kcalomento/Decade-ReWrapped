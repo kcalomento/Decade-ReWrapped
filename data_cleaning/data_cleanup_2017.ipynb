{
 "cells": [
  {
   "cell_type": "code",
   "execution_count": 1,
   "metadata": {},
   "outputs": [],
   "source": [
    "import json\n",
    "import pandas as pd"
   ]
  },
  {
   "cell_type": "markdown",
   "metadata": {},
   "source": [
    "1"
   ]
  },
  {
   "cell_type": "code",
   "execution_count": 2,
   "metadata": {},
   "outputs": [],
   "source": [
    "# Load JSON file\n",
    "file_path = \"../uncleaned_data/Streaming_History_Audio_2016-2017_1.json\"  # Update path if needed\n",
    "with open(file_path, \"r\", encoding=\"utf-8\") as f:\n",
    "    data = json.load(f)"
   ]
  },
  {
   "cell_type": "code",
   "execution_count": 3,
   "metadata": {},
   "outputs": [],
   "source": [
    "# Convert to DataFrame\n",
    "df = pd.DataFrame(data)"
   ]
  },
  {
   "cell_type": "code",
   "execution_count": 4,
   "metadata": {},
   "outputs": [],
   "source": [
    "# Convert ISO 8601 timestamp to datetime\n",
    "df[\"date\"] = pd.to_datetime(df[\"ts\"], errors=\"coerce\", utc=True)"
   ]
  },
  {
   "cell_type": "code",
   "execution_count": 5,
   "metadata": {},
   "outputs": [],
   "source": [
    "# Extract only 2017 data\n",
    "df_2017 = df[df[\"date\"].dt.year == 2017]"
   ]
  },
  {
   "cell_type": "code",
   "execution_count": 6,
   "metadata": {},
   "outputs": [],
   "source": [
    "# Keep only the required columns\n",
    "required_columns = [\n",
    "    \"ts\", \"ms_played\", \"master_metadata_track_name\", \n",
    "    \"master_metadata_album_artist_name\", \"master_metadata_album_album_name\"\n",
    "]\n",
    "\n",
    "df_2017 = df_2017[required_columns] \n",
    "df_2017 = df_2017.dropna(how=\"all\") "
   ]
  },
  {
   "cell_type": "code",
   "execution_count": 7,
   "metadata": {},
   "outputs": [
    {
     "name": "stdout",
     "output_type": "stream",
     "text": [
      "(3621, 5)\n"
     ]
    }
   ],
   "source": [
    "# Check if data exists\n",
    "print(df_2017.shape)"
   ]
  },
  {
   "cell_type": "markdown",
   "metadata": {},
   "source": [
    "2"
   ]
  },
  {
   "cell_type": "code",
   "execution_count": 8,
   "metadata": {},
   "outputs": [],
   "source": [
    "# Load JSON file\n",
    "file_path = \"../uncleaned_data/Streaming_History_Audio_2017_2.json\"\n",
    "with open(file_path, \"r\", encoding=\"utf-8\") as f:\n",
    "    data = json.load(f)"
   ]
  },
  {
   "cell_type": "code",
   "execution_count": 9,
   "metadata": {},
   "outputs": [],
   "source": [
    "# Convert to DataFrame \n",
    "df1 = pd.DataFrame(data)"
   ]
  },
  {
   "cell_type": "code",
   "execution_count": 10,
   "metadata": {},
   "outputs": [],
   "source": [
    "# Convert ISO 8601 timestamp to datetime\n",
    "df1[\"date\"] = pd.to_datetime(df1[\"ts\"], errors=\"coerce\", utc=True)"
   ]
  },
  {
   "cell_type": "code",
   "execution_count": 11,
   "metadata": {},
   "outputs": [],
   "source": [
    "# Extract only 2017 data\n",
    "df1_2017 = df1[df1[\"date\"].dt.year == 2017]"
   ]
  },
  {
   "cell_type": "code",
   "execution_count": 12,
   "metadata": {},
   "outputs": [],
   "source": [
    "# Keep only the required columns\n",
    "required_columns = [\n",
    "    \"ts\", \"ms_played\", \"master_metadata_track_name\", \n",
    "    \"master_metadata_album_artist_name\", \"master_metadata_album_album_name\"\n",
    "]\n",
    "\n",
    "df1_2017 = df1_2017[required_columns] \n",
    "df1_2017 = df1_2017.dropna(how=\"all\") "
   ]
  },
  {
   "cell_type": "code",
   "execution_count": 13,
   "metadata": {},
   "outputs": [
    {
     "name": "stdout",
     "output_type": "stream",
     "text": [
      "(15898, 5)\n"
     ]
    }
   ],
   "source": [
    "# Check if data exists\n",
    "print(df1_2017.shape)"
   ]
  },
  {
   "cell_type": "markdown",
   "metadata": {},
   "source": [
    "3"
   ]
  },
  {
   "cell_type": "code",
   "execution_count": 15,
   "metadata": {},
   "outputs": [],
   "source": [
    "# Load JSON file\n",
    "file_path = \"../uncleaned_data/Streaming_History_Audio_2017-2018_3.json\"\n",
    "with open(file_path, \"r\", encoding=\"utf-8\") as f:\n",
    "    data = json.load(f)"
   ]
  },
  {
   "cell_type": "code",
   "execution_count": 16,
   "metadata": {},
   "outputs": [],
   "source": [
    "# Convert to DataFrame \n",
    "df2 = pd.DataFrame(data)"
   ]
  },
  {
   "cell_type": "code",
   "execution_count": 17,
   "metadata": {},
   "outputs": [],
   "source": [
    "# Convert ISO 8601 timestamp to datetime\n",
    "df2[\"date\"] = pd.to_datetime(df2[\"ts\"], errors=\"coerce\", utc=True)"
   ]
  },
  {
   "cell_type": "code",
   "execution_count": 18,
   "metadata": {},
   "outputs": [],
   "source": [
    "# Extract only 2017 data\n",
    "df2_2017 = df2[df2[\"date\"].dt.year == 2017]"
   ]
  },
  {
   "cell_type": "code",
   "execution_count": 19,
   "metadata": {},
   "outputs": [],
   "source": [
    "# Keep only the required columns\n",
    "required_columns = [\n",
    "    \"ts\", \"ms_played\", \"master_metadata_track_name\", \n",
    "    \"master_metadata_album_artist_name\", \"master_metadata_album_album_name\"\n",
    "]\n",
    "\n",
    "df2_2017 = df2_2017[required_columns] \n",
    "df2_2017 = df2_2017.dropna(how=\"all\") "
   ]
  },
  {
   "cell_type": "code",
   "execution_count": 20,
   "metadata": {},
   "outputs": [
    {
     "name": "stdout",
     "output_type": "stream",
     "text": [
      "(12450, 5)\n"
     ]
    }
   ],
   "source": [
    "# Check if data exists\n",
    "print(df2_2017.shape)"
   ]
  },
  {
   "cell_type": "markdown",
   "metadata": {},
   "source": [
    "Full Merge of 2016"
   ]
  },
  {
   "cell_type": "code",
   "execution_count": 21,
   "metadata": {},
   "outputs": [],
   "source": [
    "# Convert to DataFrames\n",
    "df = pd.DataFrame(df_2017)\n",
    "df1 = pd.DataFrame(df1_2017)\n",
    "df2 = pd.DataFrame(df2_2017)"
   ]
  },
  {
   "cell_type": "code",
   "execution_count": 22,
   "metadata": {},
   "outputs": [],
   "source": [
    "# Combine DataFrames\n",
    "df_merged = pd.concat([df, df1, df2], ignore_index=True)"
   ]
  },
  {
   "cell_type": "code",
   "execution_count": 23,
   "metadata": {},
   "outputs": [],
   "source": [
    "# Convert timestamp format\n",
    "df_merged[\"ts\"] = pd.to_datetime(df_merged[\"ts\"]).dt.strftime(\"%Y-%m-%d %H:%M:%S\")"
   ]
  },
  {
   "cell_type": "code",
   "execution_count": 24,
   "metadata": {},
   "outputs": [],
   "source": [
    "# Remove quotes from column headers\n",
    "df_merged.columns = df_merged.columns.str.replace('\"', '')"
   ]
  },
  {
   "cell_type": "code",
   "execution_count": 25,
   "metadata": {},
   "outputs": [],
   "source": [
    "# Save the filtered data to JSON\n",
    "df_merged.to_json(\"../cleaned_data/json/Streaming_History_2017.json\", orient=\"records\", indent=4)"
   ]
  },
  {
   "cell_type": "code",
   "execution_count": 26,
   "metadata": {},
   "outputs": [],
   "source": [
    "# Save the filtered data to CSV\n",
    "df_merged.to_csv(\"../cleaned_data/csv/spotify_2017_fixed.csv\", index=False, quoting=1, header=True)"
   ]
  },
  {
   "cell_type": "code",
   "execution_count": 27,
   "metadata": {},
   "outputs": [],
   "source": [
    "# Manually remove quotes from headers with UTF-8 encoding\n",
    "with open(\"../cleaned_data/csv/spotify_2017_fixed.csv\", \"r\", encoding=\"utf-8\") as file:\n",
    "    lines = file.readlines()"
   ]
  },
  {
   "cell_type": "code",
   "execution_count": 28,
   "metadata": {},
   "outputs": [],
   "source": [
    "# Replace first line (headers) without quotes\n",
    "lines[0] = \",\".join(lines[0].replace('\"', \"\").strip().split(\",\")) + \"\\n\""
   ]
  },
  {
   "cell_type": "code",
   "execution_count": 29,
   "metadata": {},
   "outputs": [],
   "source": [
    "# Write back to the file using UTF-8\n",
    "with open(\"../cleaned_data/csv/spotify_2017_fixed.csv\", \"w\", encoding=\"utf-8\") as file:\n",
    "    file.writelines(lines)"
   ]
  }
 ],
 "metadata": {
  "kernelspec": {
   "display_name": "base",
   "language": "python",
   "name": "python3"
  },
  "language_info": {
   "codemirror_mode": {
    "name": "ipython",
    "version": 3
   },
   "file_extension": ".py",
   "mimetype": "text/x-python",
   "name": "python",
   "nbconvert_exporter": "python",
   "pygments_lexer": "ipython3",
   "version": "3.12.4"
  }
 },
 "nbformat": 4,
 "nbformat_minor": 2
}
